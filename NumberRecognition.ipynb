{
 "cells": [
  {
   "cell_type": "markdown",
   "id": "fad6ad7a",
   "metadata": {},
   "source": [
    "# Number Recognition"
   ]
  },
  {
   "cell_type": "markdown",
   "id": "eef07824",
   "metadata": {},
   "source": [
    "#### importing all necessary libraries"
   ]
  },
  {
   "cell_type": "code",
   "execution_count": 27,
   "id": "da415a97",
   "metadata": {},
   "outputs": [],
   "source": [
    "import tensorflow as tf\n",
    "from tensorflow.keras.models import load_model\n",
    "from tensorflow.keras.datasets import mnist\n",
    "from tensorflow.keras.models import Sequential\n",
    "from tensorflow.keras.layers import Dense, Flatten\n",
    "import matplotlib.pyplot as plt\n",
    "from tensorflow.keras.utils import to_categorical\n",
    "import numpy as np\n"
   ]
  },
  {
   "cell_type": "markdown",
   "id": "7ef6e8f6",
   "metadata": {},
   "source": [
    "#### Loading and preprocessing the MNIST dataset"
   ]
  },
  {
   "cell_type": "code",
   "execution_count": 28,
   "id": "94b4fd0f",
   "metadata": {},
   "outputs": [],
   "source": [
    "(x_train, y_train), (x_test, y_test) = mnist.load_data()\n",
    "x_train = x_train / 255.0  # Normalize pixel values to the range [0, 1]\n",
    "x_test = x_test / 255.0\n",
    "y_train = to_categorical(y_train, num_classes=10)  # Convert labels to one-hot encoding\n",
    "y_test = to_categorical(y_test, num_classes=10)"
   ]
  },
  {
   "cell_type": "code",
   "execution_count": 29,
   "id": "18a11910",
   "metadata": {},
   "outputs": [],
   "source": [
    "model = Sequential([\n",
    "    Flatten(input_shape=(28, 28)),  # Flatten the 28x28 images into a 1D array\n",
    "    Dense(128, activation='relu'),\n",
    "    Dense(64, activation='relu'),\n",
    "    Dense(10, activation='softmax')  # Output layer with 10 classes (digits 0-9)\n",
    "])"
   ]
  },
  {
   "cell_type": "markdown",
   "id": "0bc6c9b9",
   "metadata": {},
   "source": [
    "#### Compile the model"
   ]
  },
  {
   "cell_type": "code",
   "execution_count": 30,
   "id": "70afaa05",
   "metadata": {},
   "outputs": [],
   "source": [
    "\n",
    "model.compile(optimizer='adam', loss='categorical_crossentropy', metrics=['accuracy'])\n"
   ]
  },
  {
   "cell_type": "markdown",
   "id": "e9a68c84",
   "metadata": {},
   "source": [
    "#### Train the model"
   ]
  },
  {
   "cell_type": "code",
   "execution_count": 31,
   "id": "a28593f3",
   "metadata": {},
   "outputs": [
    {
     "name": "stdout",
     "output_type": "stream",
     "text": [
      "Epoch 1/5\n",
      "844/844 [==============================] - 3s 2ms/step - loss: 0.2898 - accuracy: 0.9161 - val_loss: 0.1233 - val_accuracy: 0.9645\n",
      "Epoch 2/5\n",
      "844/844 [==============================] - 2s 3ms/step - loss: 0.1228 - accuracy: 0.9632 - val_loss: 0.0904 - val_accuracy: 0.9740\n",
      "Epoch 3/5\n",
      "844/844 [==============================] - 2s 2ms/step - loss: 0.0826 - accuracy: 0.9749 - val_loss: 0.0847 - val_accuracy: 0.9742\n",
      "Epoch 4/5\n",
      "844/844 [==============================] - 2s 2ms/step - loss: 0.0629 - accuracy: 0.9810 - val_loss: 0.0837 - val_accuracy: 0.9775\n",
      "Epoch 5/5\n",
      "844/844 [==============================] - 2s 2ms/step - loss: 0.0472 - accuracy: 0.9850 - val_loss: 0.0838 - val_accuracy: 0.9780\n"
     ]
    },
    {
     "data": {
      "text/plain": [
       "<keras.src.callbacks.History at 0x1a95034ba30>"
      ]
     },
     "execution_count": 31,
     "metadata": {},
     "output_type": "execute_result"
    }
   ],
   "source": [
    "model.fit(x_train, y_train, epochs=5, batch_size=64, validation_split=0.1)\n"
   ]
  },
  {
   "cell_type": "markdown",
   "id": "b0ed470d",
   "metadata": {},
   "source": [
    "#### Evaluate the model"
   ]
  },
  {
   "cell_type": "code",
   "execution_count": 32,
   "id": "6db4c987",
   "metadata": {},
   "outputs": [
    {
     "name": "stdout",
     "output_type": "stream",
     "text": [
      "313/313 [==============================] - 1s 2ms/step - loss: 0.0834 - accuracy: 0.9728\n",
      "Test accuracy: 0.9728000164031982\n"
     ]
    }
   ],
   "source": [
    "test_loss, test_accuracy = model.evaluate(x_test, y_test)\n",
    "print(f\"Test accuracy: {test_accuracy}\")"
   ]
  },
  {
   "cell_type": "markdown",
   "id": "c768869f",
   "metadata": {},
   "source": [
    "#### Save the trained model"
   ]
  },
  {
   "cell_type": "code",
   "execution_count": 33,
   "id": "df786b0b",
   "metadata": {},
   "outputs": [],
   "source": [
    "model.save('handwritten_digit_model.keras')"
   ]
  },
  {
   "cell_type": "code",
   "execution_count": 37,
   "id": "b45f2b6a",
   "metadata": {
    "scrolled": true
   },
   "outputs": [
    {
     "name": "stdout",
     "output_type": "stream",
     "text": [
      "1/1 [==============================] - 0s 16ms/step\n"
     ]
    },
    {
     "data": {
      "image/png": "[encoded data removed]",
      "text/plain": [
       "<Figure size 640x480 with 1 Axes>"
      ]
     },
     "metadata": {},
     "output_type": "display_data"
    }
   ],
   "source": [
    "\n",
    "# Function to predict digit from an image\n",
    "def predict_digit(image):\n",
    "    image = np.expand_dims(image, axis=0)  \n",
    "    prediction = model.predict(image)\n",
    "    predicted_digit = np.argmax(prediction)\n",
    "    return predicted_digit\n",
    "\n",
    "\n",
    "# Generate a random image index for prediction\n",
    "image_index = np.random.randint(0, len(x_test))  # Random index between 0 and number of test images\n",
    "sample_image = x_test[image_index]\n",
    "predicted_digit = predict_digit(sample_image)\n",
    "\n",
    "plt.imshow(sample_image, cmap='Greens')\n",
    "plt.title(f\"Predicted Digit: {predicted_digit}\")\n",
    "plt.show()\n"
   ]
  }
 ],
 "metadata": {
  "kernelspec": {
   "display_name": "Python 3 (ipykernel)",
   "language": "python",
   "name": "python3"
  },
  "language_info": {
   "codemirror_mode": {
    "name": "ipython",
    "version": 3
   },
   "file_extension": ".py",
   "mimetype": "text/x-python",
   "name": "python",
   "nbconvert_exporter": "python",
   "pygments_lexer": "ipython3",
   "version": "3.9.16"
  }
 },
 "nbformat": 4,
 "nbformat_minor": 5
}
